{
 "cells": [
  {
   "cell_type": "code",
   "execution_count": 10,
   "metadata": {
    "execution": {
     "iopub.execute_input": "2024-11-06T07:30:32.388223Z",
     "iopub.status.busy": "2024-11-06T07:30:32.387783Z",
     "iopub.status.idle": "2024-11-06T07:30:45.322494Z",
     "shell.execute_reply": "2024-11-06T07:30:45.321356Z",
     "shell.execute_reply.started": "2024-11-06T07:30:32.388181Z"
    },
    "trusted": true
   },
   "outputs": [],
   "source": [
    "# !pip install langchain\n",
    "# !pip install -q langchain-community langchain_huggingface chromadb --use-feature=fast-deps\n",
    "# !pip install lxml"
   ]
  },
  {
   "cell_type": "code",
   "execution_count": 4,
   "metadata": {
    "execution": {
     "iopub.execute_input": "2024-11-06T07:31:01.654820Z",
     "iopub.status.busy": "2024-11-06T07:31:01.654413Z",
     "iopub.status.idle": "2024-11-06T07:31:46.570411Z",
     "shell.execute_reply": "2024-11-06T07:31:46.569186Z",
     "shell.execute_reply.started": "2024-11-06T07:31:01.654782Z"
    },
    "trusted": true
   },
   "outputs": [
    {
     "name": "stderr",
     "output_type": "stream",
     "text": [
      "c:\\Users\\zqrc0\\anaconda3\\envs\\dlblm\\lib\\site-packages\\sentence_transformers\\cross_encoder\\CrossEncoder.py:13: TqdmWarning: IProgress not found. Please update jupyter and ipywidgets. See https://ipywidgets.readthedocs.io/en/stable/user_install.html\n",
      "  from tqdm.autonotebook import tqdm, trange\n"
     ]
    }
   ],
   "source": [
    "from langchain.embeddings import HuggingFaceEmbeddings\n",
    "from langchain.llms import HuggingFaceHub\n",
    "from langchain.docstore.document import Document\n",
    "from langchain.text_splitter import RecursiveCharacterTextSplitter\n",
    "from bs4 import BeautifulSoup\n",
    "import requests\n",
    "\n",
    "# SKT 한국어 임베딩 및 QA 모델 설정\n",
    "hf_embeddings = HuggingFaceEmbeddings(\n",
    "    model_name='jhgan/ko-sroberta-nli',\n",
    "    model_kwargs={'device': 'cpu'},\n",
    "    encode_kwargs={'normalize_embeddings': True}\n",
    ")"
   ]
  },
  {
   "cell_type": "code",
   "execution_count": 1,
   "metadata": {
    "execution": {
     "iopub.execute_input": "2024-11-06T07:34:18.869700Z",
     "iopub.status.busy": "2024-11-06T07:34:18.868493Z",
     "iopub.status.idle": "2024-11-06T07:34:18.876921Z",
     "shell.execute_reply": "2024-11-06T07:34:18.875578Z",
     "shell.execute_reply.started": "2024-11-06T07:34:18.869650Z"
    },
    "trusted": true
   },
   "outputs": [
    {
     "data": {
      "text/plain": [
       "''"
      ]
     },
     "execution_count": 1,
     "metadata": {},
     "output_type": "execute_result"
    }
   ],
   "source": [
    "import os\n",
    "\n",
    "os.environ[\"HUGGINGFACEHUB_API_TOKEN\"] = \"\"\n",
    "\n",
    "os.environ.get(\"HUGGINGFACEHUB_API_TOKEN\")"
   ]
  },
  {
   "cell_type": "code",
   "execution_count": 12,
   "metadata": {
    "execution": {
     "iopub.execute_input": "2024-11-06T07:34:22.750513Z",
     "iopub.status.busy": "2024-11-06T07:34:22.750101Z",
     "iopub.status.idle": "2024-11-06T07:34:22.761766Z",
     "shell.execute_reply": "2024-11-06T07:34:22.760453Z",
     "shell.execute_reply.started": "2024-11-06T07:34:22.750474Z"
    },
    "trusted": true
   },
   "outputs": [],
   "source": [
    "from langchain.schema import Document\n",
    "from langchain.text_splitter import RecursiveCharacterTextSplitter\n",
    "import requests\n",
    "from bs4 import BeautifulSoup as bs\n",
    "\n",
    "# 검색부\n",
    "def load_Korean_game(gametitle, display=5, pageno=1):\n",
    "    url = f'https://www.grac.or.kr/WebService/GameSearchSvc.asmx/game?display={display}&pageno={pageno}&gametitle={gametitle}'\n",
    "    \n",
    "    response = requests.get(url)\n",
    "    response.raise_for_status()  # 오류 발생 시 예외 처리\n",
    "\n",
    "    # HTML 파싱 및 본문 내용 추출\n",
    "    soup = bs(response.text, 'html.parser')\n",
    "    content = soup.find_all('item')  # item 태그들 추출\n",
    "    \n",
    "    paragraphs = []\n",
    "    for idx, i in enumerate(content):\n",
    "        # print(f'idx : {idx}')\n",
    "        # print('-'*50)\n",
    "        # print(f'content : {i}')\n",
    "        # title = i.find('gametitle')  # gametitle 태그 추출\n",
    "        if i:\n",
    "            # print(f'gametitle : {i.text}')\n",
    "            paragraphs.append(i.text)\n",
    "    \n",
    "    # 텍스트 변환 및 Document 객체로 변환\n",
    "    text = \"\\n\".join(paragraphs)\n",
    "    documents = [Document(page_content=text, metadata={\"source\": url})]\n",
    "    \n",
    "    # 텍스트 스플릿\n",
    "    text_splitter = RecursiveCharacterTextSplitter(\n",
    "        chunk_size=1000,\n",
    "        chunk_overlap=200\n",
    "    )\n",
    "    splits = text_splitter.split_documents(documents)\n",
    "    \n",
    "    return splits\n",
    "\n",
    "def create_vectorstore(splits):\n",
    "    valid_splits = []\n",
    "    for i, split in enumerate(splits):\n",
    "        print(f\"Processing split {i+1}/{len(splits)}: {split.page_content[:30]}...\")  # 첫 30자 출력\n",
    "        \n",
    "        # 임베딩 생성 과정 확인\n",
    "        embedding = hf_embeddings.embed_query(split.page_content)\n",
    "        \n",
    "        # 임베딩이 올바르게 생성되었는지 길이와 형태 출력\n",
    "        if embedding and len(embedding) > 0:\n",
    "            print(f\"Embedding created for split {i+1}, length: {len(embedding)}\")\n",
    "            valid_splits.append(split)\n",
    "        else:\n",
    "            print(f\"Empty embedding for split {i+1}\")\n",
    "\n",
    "    if valid_splits:\n",
    "        vectorstore = Chroma.from_documents(documents=valid_splits, embedding=hf_embeddings)\n",
    "        return vectorstore\n",
    "    else:\n",
    "        raise ValueError(\"No valid documents with embeddings to add to vector store.\")"
   ]
  },
  {
   "cell_type": "code",
   "execution_count": 13,
   "metadata": {
    "execution": {
     "iopub.execute_input": "2024-11-06T07:35:12.757779Z",
     "iopub.status.busy": "2024-11-06T07:35:12.756821Z",
     "iopub.status.idle": "2024-11-06T07:35:15.107588Z",
     "shell.execute_reply": "2024-11-06T07:35:15.106363Z",
     "shell.execute_reply.started": "2024-11-06T07:35:12.757729Z"
    },
    "trusted": true
   },
   "outputs": [
    {
     "name": "stderr",
     "output_type": "stream",
     "text": [
      "c:\\Users\\zqrc0\\anaconda3\\envs\\dlblm\\lib\\html\\parser.py:170: XMLParsedAsHTMLWarning: It looks like you're parsing an XML document using an HTML parser. If this really is an HTML document (maybe it's XHTML?), you can ignore or filter this warning. If it's XML, you should know that using an XML parser will be more reliable. To parse this document as XML, make sure you have the lxml package installed, and pass the keyword argument `features=\"xml\"` into the BeautifulSoup constructor.\n",
      "  k = self.parse_starttag(i)\n"
     ]
    },
    {
     "name": "stdout",
     "output_type": "stream",
     "text": [
      "Processing split 1/1: GC-CC-NP-230203-016\n",
      "2023-02-03...\n",
      "Embedding created for split 1, length: 768\n"
     ]
    }
   ],
   "source": [
    "from langchain_community.vectorstores import Chroma\n",
    "\n",
    "# 사용 예시\n",
    "topic = '화이트데이'\n",
    "splits = load_Korean_game(topic)\n",
    "if splits:\n",
    "    vectorstore = create_vectorstore(splits)\n",
    "else:\n",
    "    print(\"No content to create vector store.\")"
   ]
  },
  {
   "cell_type": "code",
   "execution_count": 14,
   "metadata": {
    "execution": {
     "iopub.execute_input": "2024-11-06T07:36:20.133499Z",
     "iopub.status.busy": "2024-11-06T07:36:20.133098Z",
     "iopub.status.idle": "2024-11-06T07:42:39.455997Z",
     "shell.execute_reply": "2024-11-06T07:42:39.454768Z",
     "shell.execute_reply.started": "2024-11-06T07:36:20.133465Z"
    },
    "trusted": true
   },
   "outputs": [
    {
     "name": "stderr",
     "output_type": "stream",
     "text": [
      "Loading checkpoint shards: 100%|██████████| 13/13 [00:46<00:00,  3.57s/it]\n",
      "The model 'GPTNeoXForCausalLM' is not supported for text2text-generation. Supported models are ['BartForConditionalGeneration', 'BigBirdPegasusForConditionalGeneration', 'BlenderbotForConditionalGeneration', 'BlenderbotSmallForConditionalGeneration', 'EncoderDecoderModel', 'FSMTForConditionalGeneration', 'GPTSanJapaneseForConditionalGeneration', 'LEDForConditionalGeneration', 'LongT5ForConditionalGeneration', 'M2M100ForConditionalGeneration', 'MarianMTModel', 'MBartForConditionalGeneration', 'MT5ForConditionalGeneration', 'MvpForConditionalGeneration', 'NllbMoeForConditionalGeneration', 'PegasusForConditionalGeneration', 'PegasusXForConditionalGeneration', 'PLBartForConditionalGeneration', 'ProphetNetForConditionalGeneration', 'Qwen2AudioForConditionalGeneration', 'SeamlessM4TForTextToText', 'SeamlessM4Tv2ForTextToText', 'SwitchTransformersForConditionalGeneration', 'T5ForConditionalGeneration', 'UMT5ForConditionalGeneration', 'XLMProphetNetForConditionalGeneration'].\n"
     ]
    }
   ],
   "source": [
    "from transformers import pipeline\n",
    "\n",
    "# KoAlpaca 모델 로드\n",
    "qa_pipeline = pipeline(\n",
    "    \"text2text-generation\",\n",
    "    model=\"beomi/KoAlpaca-Polyglot-5.8B\",\n",
    "    tokenizer=\"beomi/KoAlpaca-Polyglot-5.8B\"\n",
    ")"
   ]
  },
  {
   "cell_type": "code",
   "execution_count": 15,
   "metadata": {
    "execution": {
     "iopub.execute_input": "2024-11-06T07:56:06.861010Z",
     "iopub.status.busy": "2024-11-06T07:56:06.860523Z"
    },
    "trusted": true
   },
   "outputs": [
    {
     "name": "stdout",
     "output_type": "stream",
     "text": [
      "질문: 화이트데이 스토리 알려줘\n",
      "답변: GC-CC-NP-230203-016\n",
      "2023-02-03\n",
      "화이트데이2: 거짓말하는 꽃(White Day2: The Flower That Tells Lies) (PC)\n",
      "게임콘텐츠등급분류위원회\n",
      "주식회사 루트엔스튜디오\n",
      "화이트데이 전날 밤 사고로 폐쇄된 학교에서 숨겨진 진실을 찾는 공포 어드벤처 게임\n",
      "15세이용가\n",
      "어드벤처\n",
      "PC/온라인 게임\n",
      "공포\n",
      "False\n",
      "\n",
      "\n",
      "\n",
      "GC-CC-NP-180126-010\n",
      "2018-01-26\n",
      "화이트데이: 담력시험\n",
      "게임콘텐츠등급분류위원회\n",
      "주식회사 손노리\n",
      "학교의 폐쇠된 창고에서 진행하는 담력시험 게임으로 지시된 아이템들을 제한시간 내에 찾아오는 VR기기 전용 PC용 공포액션게임\n",
      "12세이용가\n",
      "액션\n",
      "PC/온라인 게임\n",
      "공포\n",
      "False\n",
      "\n",
      "\n",
      "\n",
      "GC-CC-NV-170203-005\n",
      "2017-02-03\n",
      "화이트데이: 학교라는 이름의 미궁\n",
      "게임콘텐츠등급분류위원회\n",
      "주식회사 손노리\n",
      "화이트데이 전날 밤의 학교를 배경으로 숨겨진 사연에 접근해 나가는 어드벤처 게임.\n",
      "15세이용가\n",
      "어드벤처\n",
      "비디오 게임\n",
      "공포\n",
      "False\n",
      "\n",
      "\n",
      "\n",
      "GC-CC-NP-160513-001\n",
      "2016-05-13\n",
      "화이트데이 : 학교라는 이름의 미궁\n",
      "게임콘텐츠등급분류위원회\n",
      "주식회사 손노리\n",
      "화이트데이 전날 밤의 학교를 배경으로 숨겨진 사연에 접근해 나가는 어드벤처 게임\n",
      "15세이용가\n",
      "어드벤처\n",
      "PC/온라인 게임\n",
      "공포\n",
      "False\n",
      "\n",
      "\n",
      "\n",
      "CC-NA-120718-009\n",
      "2012-07-18\n",
      "White Day Triple (화이트데이트리플)\n",
      "게임물관리위원회\n",
      "(주)한국오토엠\n",
      "로봇팔을 이용한 크레인 게임, 바가지 형태의 로봇팔과 움직이는 밀판을 이용하여 경품을 획득 할 수 있는 게임물 \n",
      "\n",
      "전체이용가\n",
      "기타\n",
      "아케이드 게임\n",
      "\n",
      "False\n",
      "\n",
      "질문: 화이트데이 스토리 알려줘\n",
      "\n",
      "### 맥락:\n",
      "화이트데이는 3월 14일이죠. 성 발렌타인 축일에 얽힌 사연에 맞춰서 온갖 소문이 떠돌던데(예를 들면 성 발렌타인을 사모하던 여인이 죽은 날이라든가) 그냥 만들어낸 이야기로 보면 맞습니다.정확히 3월 14일이 기념일 아닌 기념일로 된 건 일본의 유명 제과회사인 모리나가 제과의 농간으로, 성 발렌타인 축일에 초콜렛\n"
     ]
    }
   ],
   "source": [
    "# context 구성\n",
    "context = \" \".join([split.page_content for split in splits])\n",
    "\n",
    "# 질문 설정\n",
    "question = \"화이트데이 스토리 알려줘\"\n",
    "\n",
    "# context와 question을 하나의 문자열로 합쳐서 전달\n",
    "input_text = f\"{context}\\n\\n질문: {question}\"\n",
    "result = qa_pipeline(input_text, max_new_tokens=100)\n",
    "\n",
    "# 질문과 답변만 출력\n",
    "print(\"질문:\", question)\n",
    "print(\"답변:\", result[0]['generated_text'])"
   ]
  },
  {
   "cell_type": "code",
   "execution_count": null,
   "metadata": {
    "trusted": true
   },
   "outputs": [],
   "source": []
  }
 ],
 "metadata": {
  "kaggle": {
   "accelerator": "none",
   "dataSources": [],
   "dockerImageVersionId": 30786,
   "isGpuEnabled": false,
   "isInternetEnabled": true,
   "language": "python",
   "sourceType": "notebook"
  },
  "kernelspec": {
   "display_name": "dlblm",
   "language": "python",
   "name": "python3"
  },
  "language_info": {
   "codemirror_mode": {
    "name": "ipython",
    "version": 3
   },
   "file_extension": ".py",
   "mimetype": "text/x-python",
   "name": "python",
   "nbconvert_exporter": "python",
   "pygments_lexer": "ipython3",
   "version": "3.10.15"
  }
 },
 "nbformat": 4,
 "nbformat_minor": 4
}
